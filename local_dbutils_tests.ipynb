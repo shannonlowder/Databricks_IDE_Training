{
 "cells": [
  {
   "cell_type": "code",
   "execution_count": 4,
   "metadata": {},
   "outputs": [
    {
     "name": "stdout",
     "output_type": "stream",
     "text": [
      "dbutils is available\n"
     ]
    }
   ],
   "source": [
    "try:\n",
    "    if dbutils:\n",
    "        print(\"dbutils is available\")\n",
    "except NameError:\n",
    "    print(\"dbutils is not available, using stand-in\")\n",
    "    import dbutils"
   ]
  },
  {
   "cell_type": "code",
   "execution_count": 5,
   "metadata": {},
   "outputs": [
    {
     "name": "stdout",
     "output_type": "stream",
     "text": [
      "\n",
      "    This module provides a local stand-in for the Databricks DBUtils module.\n",
      "\n",
      "    fs: This module provides a local stand-in for the Databricks DBUtils.fs module.\n",
      "\n",
      "    others coming soon!\n",
      "    \n"
     ]
    }
   ],
   "source": [
    "dbutils.help()"
   ]
  },
  {
   "cell_type": "code",
   "execution_count": 10,
   "metadata": {},
   "outputs": [
    {
     "ename": "AttributeError",
     "evalue": "module 'dbutils.fs' has no attribute 'help'",
     "output_type": "error",
     "traceback": [
      "\u001b[0;31m---------------------------------------------------------------------------\u001b[0m",
      "\u001b[0;31mAttributeError\u001b[0m                            Traceback (most recent call last)",
      "Cell \u001b[0;32mIn[10], line 1\u001b[0m\n\u001b[0;32m----> 1\u001b[0m dbutils\u001b[39m.\u001b[39;49mfs\u001b[39m.\u001b[39;49mhelp()\n",
      "\u001b[0;31mAttributeError\u001b[0m: module 'dbutils.fs' has no attribute 'help'"
     ]
    }
   ],
   "source": [
    "dbutils.fs.help()"
   ]
  },
  {
   "cell_type": "code",
   "execution_count": null,
   "metadata": {},
   "outputs": [],
   "source": []
  }
 ],
 "metadata": {
  "kernelspec": {
   "display_name": ".venv",
   "language": "python",
   "name": "python3"
  },
  "language_info": {
   "codemirror_mode": {
    "name": "ipython",
    "version": 3
   },
   "file_extension": ".py",
   "mimetype": "text/x-python",
   "name": "python",
   "nbconvert_exporter": "python",
   "pygments_lexer": "ipython3",
   "version": "3.9.16"
  },
  "orig_nbformat": 4,
  "vscode": {
   "interpreter": {
    "hash": "3f398eb5c6bf50336186c1b5d0a328918bdb813abfffdd0e76df967317f8de17"
   }
  }
 },
 "nbformat": 4,
 "nbformat_minor": 2
}
