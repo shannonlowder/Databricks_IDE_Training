{
 "cells": [
  {
   "cell_type": "code",
   "execution_count": 2,
   "metadata": {},
   "outputs": [
    {
     "name": "stdout",
     "output_type": "stream",
     "text": [
      "dbutils is not available, use wrapper\n"
     ]
    }
   ],
   "source": [
    "try:\n",
    "    if dbutils:\n",
    "        print(\"dbutils is available\")\n",
    "except NameError:\n",
    "    print(\"dbutils is not available, using stand-in\")\n",
    "    import dbutils"
   ]
  },
  {
   "cell_type": "code",
   "execution_count": 3,
   "metadata": {},
   "outputs": [
    {
     "name": "stdout",
     "output_type": "stream",
     "text": [
      "\n",
      "    This module provides a local stand-in for the Databricks DBUtils module.\n",
      "\n",
      "    fs: This module provides a local stand-in for the Databricks DBUtils.fs module.\n",
      "\n",
      "    others coming soon!\n",
      "    \n"
     ]
    }
   ],
   "source": [
    "dbutils.help()"
   ]
  },
  {
   "cell_type": "code",
   "execution_count": null,
   "metadata": {},
   "outputs": [],
   "source": []
  }
 ],
 "metadata": {
  "kernelspec": {
   "display_name": ".venv",
   "language": "python",
   "name": "python3"
  },
  "language_info": {
   "codemirror_mode": {
    "name": "ipython",
    "version": 3
   },
   "file_extension": ".py",
   "mimetype": "text/x-python",
   "name": "python",
   "nbconvert_exporter": "python",
   "pygments_lexer": "ipython3",
   "version": "3.9.16"
  },
  "orig_nbformat": 4,
  "vscode": {
   "interpreter": {
    "hash": "3f398eb5c6bf50336186c1b5d0a328918bdb813abfffdd0e76df967317f8de17"
   }
  }
 },
 "nbformat": 4,
 "nbformat_minor": 2
}
