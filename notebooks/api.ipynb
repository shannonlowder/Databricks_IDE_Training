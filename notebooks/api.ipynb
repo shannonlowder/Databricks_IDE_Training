{
 "cells": [
  {
   "cell_type": "code",
   "execution_count": 73,
   "metadata": {},
   "outputs": [],
   "source": [
    "import json\n",
    "from pyspark.context import SparkContext\n",
    "from pyspark.sql import SparkSession\n",
    "\n",
    "import requests\n"
   ]
  },
  {
   "cell_type": "code",
   "execution_count": 85,
   "metadata": {},
   "outputs": [],
   "source": [
    "builder = SparkSession.builder.appName(\"nyctlc.TestIngest\") \\\n",
    "        .config(\"spark.sql.extensions\", \"io.delta.sql.DeltaSparkSessionExtension\") \\\n",
    "        .config(\"spark.sql.catalog.spark_catalog\", \"org.apache.spark.sql.delta.catalog.DeltaCatalog\")\n",
    "\n",
    "\n",
    "spark = SparkSession.builder.getOrCreate()\n",
    "sc = spark.sparkContext"
   ]
  },
  {
   "cell_type": "code",
   "execution_count": 131,
   "metadata": {},
   "outputs": [
    {
     "name": "stdout",
     "output_type": "stream",
     "text": [
      "+------------+------+--------------------+--------------------+---------------+--------------------+-----------+---+----------------+------------+-------------------+--------------------+------------+-----------+--------------------+\n",
      "|abbreviation|active|          conference|            division|firstYearOfPlay|           franchise|franchiseId| id|            link|locationName|               name|     officialSiteUrl|   shortName|   teamName|               venue|\n",
      "+------------+------+--------------------+--------------------+---------------+--------------------+-----------+---+----------------+------------+-------------------+--------------------+------------+-----------+--------------------+\n",
      "|         NJD|  true|{6, /api/v1/confe...|{M, 18, /api/v1/d...|           1982|{23, /api/v1/fran...|         23|  1| /api/v1/teams/1|  New Jersey|  New Jersey Devils|http://www.newjer...|  New Jersey|     Devils|{Newark, null, /a...|\n",
      "|         NYI|  true|{6, /api/v1/confe...|{M, 18, /api/v1/d...|           1972|{22, /api/v1/fran...|         22|  2| /api/v1/teams/2|    New York| New York Islanders|http://www.newyor...|NY Islanders|  Islanders|{Elmont, null, /a...|\n",
      "|         NYR|  true|{6, /api/v1/confe...|{M, 18, /api/v1/d...|           1926|{10, /api/v1/fran...|         10|  3| /api/v1/teams/3|    New York|   New York Rangers|http://www.newyor...|  NY Rangers|    Rangers|{New York, 5054, ...|\n",
      "|         PHI|  true|{6, /api/v1/confe...|{M, 18, /api/v1/d...|           1967|{16, /api/v1/fran...|         16|  4| /api/v1/teams/4|Philadelphia|Philadelphia Flyers|http://www.philad...|Philadelphia|     Flyers|{Philadelphia, 50...|\n",
      "|         PIT|  true|{6, /api/v1/confe...|{M, 18, /api/v1/d...|           1967|{17, /api/v1/fran...|         17|  5| /api/v1/teams/5|  Pittsburgh|Pittsburgh Penguins|http://pittsburgh...|  Pittsburgh|   Penguins|{Pittsburgh, 5034...|\n",
      "|         BOS|  true|{6, /api/v1/confe...|{A, 17, /api/v1/d...|           1924|{6, /api/v1/franc...|          6|  6| /api/v1/teams/6|      Boston|      Boston Bruins|http://www.boston...|      Boston|     Bruins|{Boston, 5085, /a...|\n",
      "|         BUF|  true|{6, /api/v1/confe...|{A, 17, /api/v1/d...|           1970|{19, /api/v1/fran...|         19|  7| /api/v1/teams/7|     Buffalo|     Buffalo Sabres|http://www.sabres...|     Buffalo|     Sabres|{Buffalo, 5039, /...|\n",
      "|         MTL|  true|{6, /api/v1/confe...|{A, 17, /api/v1/d...|           1909|{1, /api/v1/franc...|          1|  8| /api/v1/teams/8|    Montréal| Montréal Canadiens|http://www.canadi...|    Montréal|  Canadiens|{Montréal, 5028, ...|\n",
      "|         OTT|  true|{6, /api/v1/confe...|{A, 17, /api/v1/d...|           1990|{30, /api/v1/fran...|         30|  9| /api/v1/teams/9|      Ottawa|    Ottawa Senators|http://www.ottawa...|      Ottawa|   Senators|{Ottawa, 5031, /a...|\n",
      "|         TOR|  true|{6, /api/v1/confe...|{A, 17, /api/v1/d...|           1917|{5, /api/v1/franc...|          5| 10|/api/v1/teams/10|     Toronto|Toronto Maple Leafs|http://www.maplel...|     Toronto|Maple Leafs|{Toronto, null, /...|\n",
      "|         CAR|  true|{6, /api/v1/confe...|{M, 18, /api/v1/d...|           1979|{26, /api/v1/fran...|         26| 12|/api/v1/teams/12|    Carolina|Carolina Hurricanes|http://www.caroli...|    Carolina| Hurricanes|{Raleigh, 5066, /...|\n",
      "|         FLA|  true|{6, /api/v1/confe...|{A, 17, /api/v1/d...|           1993|{33, /api/v1/fran...|         33| 13|/api/v1/teams/13|     Florida|   Florida Panthers|http://www.florid...|     Florida|   Panthers|{Sunrise, 5027, /...|\n",
      "|         TBL|  true|{6, /api/v1/confe...|{A, 17, /api/v1/d...|           1991|{31, /api/v1/fran...|         31| 14|/api/v1/teams/14|   Tampa Bay|Tampa Bay Lightning|http://www.tampab...|   Tampa Bay|  Lightning|{Tampa, null, /ap...|\n",
      "|         WSH|  true|{6, /api/v1/confe...|{M, 18, /api/v1/d...|           1974|{24, /api/v1/fran...|         24| 15|/api/v1/teams/15|  Washington|Washington Capitals|http://www.washin...|  Washington|   Capitals|{Washington, 5094...|\n",
      "|         CHI|  true|{5, /api/v1/confe...|{C, 16, /api/v1/d...|           1926|{11, /api/v1/fran...|         11| 16|/api/v1/teams/16|     Chicago| Chicago Blackhawks|http://www.chicag...|     Chicago| Blackhawks|{Chicago, 5092, /...|\n",
      "|         DET|  true|{6, /api/v1/confe...|{A, 17, /api/v1/d...|           1926|{12, /api/v1/fran...|         12| 17|/api/v1/teams/17|     Detroit|  Detroit Red Wings|http://www.detroi...|     Detroit|  Red Wings|{Detroit, 5145, /...|\n",
      "|         NSH|  true|{5, /api/v1/confe...|{C, 16, /api/v1/d...|           1997|{34, /api/v1/fran...|         34| 18|/api/v1/teams/18|   Nashville|Nashville Predators|http://www.nashvi...|   Nashville|  Predators|{Nashville, 5030,...|\n",
      "|         STL|  true|{5, /api/v1/confe...|{C, 16, /api/v1/d...|           1967|{18, /api/v1/fran...|         18| 19|/api/v1/teams/19|   St. Louis|    St. Louis Blues|http://www.stloui...|    St Louis|      Blues|{St. Louis, 5076,...|\n",
      "|         CGY|  true|{5, /api/v1/confe...|{P, 15, /api/v1/d...|           1980|{21, /api/v1/fran...|         21| 20|/api/v1/teams/20|     Calgary|     Calgary Flames|http://www.calgar...|     Calgary|     Flames|{Calgary, 5075, /...|\n",
      "|         COL|  true|{5, /api/v1/confe...|{C, 16, /api/v1/d...|           1979|{27, /api/v1/fran...|         27| 21|/api/v1/teams/21|    Colorado| Colorado Avalanche|http://www.colora...|    Colorado|  Avalanche|{Denver, 5064, /a...|\n",
      "+------------+------+--------------------+--------------------+---------------+--------------------+-----------+---+----------------+------------+-------------------+--------------------+------------+-----------+--------------------+\n",
      "only showing top 20 rows\n",
      "\n"
     ]
    }
   ],
   "source": [
    "url=\"https://statsapi.web.nhl.com/api/v1/teams\"\n",
    "response = requests.get(url).json()\n",
    "#print(response)\n",
    "result_json = json.dumps(response[\"teams\"])\n",
    "#print(result_json)\n",
    "df = spark.read.json(sc.parallelize([result_json]))\n",
    "df.show()"
   ]
  },
  {
   "cell_type": "code",
   "execution_count": 132,
   "metadata": {},
   "outputs": [
    {
     "name": "stdout",
     "output_type": "stream",
     "text": [
      "+------------+------+--------------------+---+--------------------+------------+---------+\n",
      "|abbreviation|active|          conference| id|                link|        name|nameShort|\n",
      "+------------+------+--------------------+---+--------------------+------------+---------+\n",
      "|           A|  true|{6, /api/v1/confe...| 17|/api/v1/divisions/17|    Atlantic|      ATL|\n",
      "|           C|  true|{5, /api/v1/confe...| 16|/api/v1/divisions/16|     Central|      CEN|\n",
      "|           M|  true|{6, /api/v1/confe...| 18|/api/v1/divisions/18|Metropolitan|    Metro|\n",
      "|           P|  true|{5, /api/v1/confe...| 15|/api/v1/divisions/15|     Pacific|      PAC|\n",
      "+------------+------+--------------------+---+--------------------+------------+---------+\n",
      "\n"
     ]
    }
   ],
   "source": [
    "url=\"https://statsapi.web.nhl.com/api/v1/divisions\"\n",
    "response = requests.get(url).json()\n",
    "#print(response)\n",
    "result_json = json.dumps(response[\"divisions\"])\n",
    "#print(result_json)\n",
    "df = spark.read.json(sc.parallelize([result_json]))\n",
    "df.show()"
   ]
  },
  {
   "cell_type": "code",
   "execution_count": 133,
   "metadata": {},
   "outputs": [
    {
     "name": "stdout",
     "output_type": "stream",
     "text": [
      "+------------+------+---+--------------------+-------+---------+\n",
      "|abbreviation|active| id|                link|   name|shortName|\n",
      "+------------+------+---+--------------------+-------+---------+\n",
      "|           E|  true|  6|/api/v1/conferenc...|Eastern|     East|\n",
      "|           W|  true|  5|/api/v1/conferenc...|Western|     West|\n",
      "+------------+------+---+--------------------+-------+---------+\n",
      "\n"
     ]
    }
   ],
   "source": [
    "url=\"https://statsapi.web.nhl.com/api/v1/conferences\"\n",
    "response = requests.get(url).json()\n",
    "#print(response)\n",
    "result_json = json.dumps(response[\"conferences\"])\n",
    "#print(result_json)\n",
    "df = spark.read.json(sc.parallelize([result_json]))\n",
    "df.show()"
   ]
  },
  {
   "cell_type": "code",
   "execution_count": 138,
   "metadata": {},
   "outputs": [
    {
     "name": "stdout",
     "output_type": "stream",
     "text": [
      "+------+----------------+---------+------------+----------+-------+----------+--------------------+---------+-----------------+------+-------+----------+--------------------+-----------+-------------+--------------------+------+------------+-------------+------+\n",
      "|active|alternateCaptain|birthCity|birthCountry| birthDate|captain|currentAge|         currentTeam|firstName|         fullName|height|     id|  lastName|                link|nationality|primaryNumber|     primaryPosition|rookie|rosterStatus|shootsCatches|weight|\n",
      "+------+----------------+---------+------------+----------+-------+----------+--------------------+---------+-----------------+------+-------+----------+--------------------+-----------+-------------+--------------------+------+------------+-------------+------+\n",
      "|  true|           false|  Barnaul|         RUS|2000-03-26|  false|        22|{12, /api/v1/team...|   Andrei|Andrei Svechnikov| 6' 2\"|8480830|Svechnikov|/api/v1/people/84...|        RUS|           37|{RW, R, Right Win...| false|           Y|            L|   195|\n",
      "+------+----------------+---------+------------+----------+-------+----------+--------------------+---------+-----------------+------+-------+----------+--------------------+-----------+-------------+--------------------+------+------------+-------------+------+\n",
      "\n"
     ]
    }
   ],
   "source": [
    "url=\"https://statsapi.web.nhl.com/api/v1/people/8480830\"\n",
    "response = requests.get(url).json()\n",
    "#print(response)\n",
    "result_json = json.dumps(response[\"people\"])\n",
    "#print(result_json)\n",
    "df = spark.read.json(sc.parallelize([result_json]))\n",
    "df.show()"
   ]
  },
  {
   "cell_type": "code",
   "execution_count": null,
   "metadata": {},
   "outputs": [],
   "source": []
  }
 ],
 "metadata": {
  "kernelspec": {
   "display_name": ".venv",
   "language": "python",
   "name": "python3"
  },
  "language_info": {
   "codemirror_mode": {
    "name": "ipython",
    "version": 3
   },
   "file_extension": ".py",
   "mimetype": "text/x-python",
   "name": "python",
   "nbconvert_exporter": "python",
   "pygments_lexer": "ipython3",
   "version": "3.9.16"
  },
  "orig_nbformat": 4,
  "vscode": {
   "interpreter": {
    "hash": "3f398eb5c6bf50336186c1b5d0a328918bdb813abfffdd0e76df967317f8de17"
   }
  }
 },
 "nbformat": 4,
 "nbformat_minor": 2
}
